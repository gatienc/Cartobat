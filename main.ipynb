{
 "cells": [
  {
   "cell_type": "code",
   "execution_count": 2,
   "metadata": {},
   "outputs": [
    {
     "ename": "SyntaxError",
     "evalue": "unmatched ')' (1284460653.py, line 31)",
     "output_type": "error",
     "traceback": [
      "\u001b[0;36m  Cell \u001b[0;32mIn[2], line 31\u001b[0;36m\u001b[0m\n\u001b[0;31m    sampled_df=Preprocessor(data,sampling_time=3).sampling(data))\u001b[0m\n\u001b[0m                                                                ^\u001b[0m\n\u001b[0;31mSyntaxError\u001b[0m\u001b[0;31m:\u001b[0m unmatched ')'\n"
     ]
    }
   ],
   "source": [
    "import os\n",
    "\n",
    "from src import API,Preprocessor\n",
    "from src._preprocessing.cleaner.remove_duplicates import remove_duplicates_Cleaner\n",
    "from src._preprocessing.filter.mean_average import mean_average_Filter\n",
    "import pandas as pd\n",
    "from pytz import timezone\n",
    "from src._preprocessing.Preprocessor import Preprocessor\n",
    "\n",
    "if __name__ == \"__main__\":\n",
    "    print(os.getenv('SITE_URL'))\n",
    "    callApi=API()\n",
    "    start=\"2023-06-22 10:39:00.000000\"\n",
    "    end=\"2023-06-22 11:30:35.000000\"\n",
    "    data=callApi.getRawDataForCartoWear('C77C2F92664E',pd.to_datetime(start),pd.to_datetime(end))\n",
    "    print(data)\n",
    "    # print('data loaded')\n",
    "    # my_filter=mean_average_Filter(20)\n",
    "    # my_cleaner=remove_duplicates_Cleaner()\n",
    "    # print('filter and cleaner loaded')\n",
    "\n",
    "    # preprocessor=Preprocessor(data,sampling_time=3)\n",
    "    # print('preprocessor loaded')\n",
    "    # preprocessor.set_cleaner(my_cleaner)\n",
    "    # print('cleaner set')\n",
    "    # preprocessor.set_filter(my_filter)\n",
    "    # print('filter set')\n",
    "    # data=preprocessor.process()\n",
    "    # print('preprocessing done')\n",
    "    # print(data)\n",
    "    sampled_df=Preprocessor(data,sampling_time=3).sampling(data)"
   ]
  },
  {
   "cell_type": "code",
   "execution_count": null,
   "metadata": {},
   "outputs": [],
   "source": [
    "sampled_df"
   ]
  }
 ],
 "metadata": {
  "kernelspec": {
   "display_name": ".venv",
   "language": "python",
   "name": "python3"
  },
  "language_info": {
   "codemirror_mode": {
    "name": "ipython",
    "version": 3
   },
   "file_extension": ".py",
   "mimetype": "text/x-python",
   "name": "python",
   "nbconvert_exporter": "python",
   "pygments_lexer": "ipython3",
   "version": "3.10.6"
  },
  "orig_nbformat": 4
 },
 "nbformat": 4,
 "nbformat_minor": 2
}
