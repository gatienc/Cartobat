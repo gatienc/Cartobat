{
 "cells": [
  {
   "cell_type": "code",
   "execution_count": 11,
   "metadata": {},
   "outputs": [],
   "source": [
    "from src.DataLoader import gdfLoader,ReceiverLoader,RSSIDataLoader\n",
    "from func.utils.getMarkerDictList import getMarkerDictList\n",
    "from src.DataLoader import Room,Receiver"
   ]
  },
  {
   "cell_type": "code",
   "execution_count": 12,
   "metadata": {},
   "outputs": [],
   "source": [
    "#Map Data\n",
    "MapDataPath=\"data/cartePalaiseau.csv\"\n",
    "map_gdf=gdfLoader(MapDataPath)\n",
    "#Receiver Data\n",
    "ReceiverDataPath=\"data/carteModulePalaiseau.csv\"\n",
    "receiver_gdf=ReceiverLoader(ReceiverDataPath)"
   ]
  },
  {
   "cell_type": "code",
   "execution_count": 13,
   "metadata": {},
   "outputs": [],
   "source": [
    "from src.DataLoader import room_list_generator,room_r_tree_generator\n",
    "room_list=room_list_generator(map_gdf)\n",
    "room_r_tree=room_r_tree_generator(room_list)\n"
   ]
  },
  {
   "cell_type": "code",
   "execution_count": 14,
   "metadata": {},
   "outputs": [],
   "source": [
    "from src.DataLoader import build_receiver_dict\n",
    "receiver_dict= build_receiver_dict(receiver_gdf,room_list,room_r_tree)\n"
   ]
  },
  {
   "cell_type": "code",
   "execution_count": 15,
   "metadata": {},
   "outputs": [],
   "source": [
    "Threshold1=-45\n",
    "Threshold2=-70"
   ]
  },
  {
   "cell_type": "code",
   "execution_count": 16,
   "metadata": {},
   "outputs": [],
   "source": [
    "from src.DataLoader import Receiver\n",
    "from shapely.geometry import Point,Polygon\n",
    "\n",
    "#need in the class: receiver_dict\n",
    "def zone_selection(receiver:Receiver,rssi:int)->Polygon:\n",
    "    \"\"\"\n",
    "    Return the predicted zone for the selected receiver receiving the rssi \n",
    "    \n",
    "    Parameters\n",
    "    ---\n",
    "    Input:\n",
    "    receiver: Receiver\n",
    "    rssi: int\n",
    "    \n",
    "    Output:\n",
    "    Polygon\n",
    "    \"\"\"\n",
    "    if rssi>Threshold1:\n",
    "        return receiver.room.polygon\n",
    "    "
   ]
  },
  {
   "cell_type": "code",
   "execution_count": 17,
   "metadata": {},
   "outputs": [],
   "source": [
    "def test_case1(receiver_dict):\n",
    "    receiver=receiver_dict['A8032A31204E']\n",
    "    rssi=-40\n",
    "    zone=zone_selection(receiver,rssi)\n",
    "    assert zone==receiver.room.polygon,f'Error: {zone_selection(receiver,rssi)} should be {receiver.room.polygon}'\n",
    "test_case1(receiver_dict)\n",
    "def test_full_treshold(receiver_dict):\n",
    "    for receiver in receiver_dict.values():\n",
    "        rssi=-40\n",
    "        zone=zone_selection(receiver,rssi)\n",
    "        assert zone==receiver.room.polygon,f'Error: {zone_selection(receiver,rssi)} should be {receiver.room.polygon}'\n",
    "test_full_treshold(receiver_dict)"
   ]
  },
  {
   "cell_type": "code",
   "execution_count": 19,
   "metadata": {},
   "outputs": [],
   "source": [
    "from src.visualization import MapCreation\n",
    "\n",
    "map_object=MapCreation(receiver_dict,room_list)\n"
   ]
  }
 ],
 "metadata": {
  "kernelspec": {
   "display_name": ".venv",
   "language": "python",
   "name": "python3"
  },
  "language_info": {
   "codemirror_mode": {
    "name": "ipython",
    "version": 3
   },
   "file_extension": ".py",
   "mimetype": "text/x-python",
   "name": "python",
   "nbconvert_exporter": "python",
   "pygments_lexer": "ipython3",
   "version": "3.10.6"
  },
  "orig_nbformat": 4
 },
 "nbformat": 4,
 "nbformat_minor": 2
}
