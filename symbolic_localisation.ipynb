{
 "cells": [
  {
   "cell_type": "code",
   "execution_count": 53,
   "metadata": {},
   "outputs": [],
   "source": [
    "from src.DataLoader import gdfLoader,ReceiverLoader,RSSIDataLoader\n",
    "from func.utils.getMarkerDictList import getMarkerDictList\n",
    "from src.DataLoader import Room,Receiver"
   ]
  },
  {
   "cell_type": "code",
   "execution_count": 54,
   "metadata": {},
   "outputs": [],
   "source": [
    "#Map Data\n",
    "MapDataPath=\"data/cartePalaiseau.csv\"\n",
    "map_gdf=gdfLoader(MapDataPath)\n",
    "#Receiver Data\n",
    "ReceiverDataPath=\"data/carteModulePalaiseau.csv\"\n",
    "receiver_gdf=ReceiverLoader(ReceiverDataPath)"
   ]
  },
  {
   "cell_type": "code",
   "execution_count": 55,
   "metadata": {},
   "outputs": [],
   "source": [
    "from src.DataLoader import room_list_generator,room_r_tree_generator\n",
    "room_list=room_list_generator(map_gdf)\n",
    "room_r_tree=room_r_tree_generator(room_list)"
   ]
  },
  {
   "cell_type": "code",
   "execution_count": 56,
   "metadata": {},
   "outputs": [],
   "source": [
    "from src.DataLoader import build_receiver_set\n",
    "receiver_set= build_receiver_set(receiver_gdf,room_list,room_r_tree)\n"
   ]
  },
  {
   "cell_type": "code",
   "execution_count": 57,
   "metadata": {},
   "outputs": [],
   "source": [
    "threshold1=-45\n",
    "threshold2=-70\n"
   ]
  }
 ],
 "metadata": {
  "kernelspec": {
   "display_name": ".venv",
   "language": "python",
   "name": "python3"
  },
  "language_info": {
   "codemirror_mode": {
    "name": "ipython",
    "version": 3
   },
   "file_extension": ".py",
   "mimetype": "text/x-python",
   "name": "python",
   "nbconvert_exporter": "python",
   "pygments_lexer": "ipython3",
   "version": "3.10.6"
  },
  "orig_nbformat": 4
 },
 "nbformat": 4,
 "nbformat_minor": 2
}
