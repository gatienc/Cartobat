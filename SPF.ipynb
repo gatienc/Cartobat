{
 "cells": [
  {
   "attachments": {},
   "cell_type": "markdown",
   "metadata": {},
   "source": [
    "#### Symbolic Propagation fingerprint\n",
    "\n",
    "SPF stands for Symbolic Propagation fingerprint, described [here](Symbolic_propagation_fingerprint.md)\n",
    "\n",
    "Calibration part is done [here](SPF_Calibration.ipynb)\n",
    "\n",
    "the calibration output is in data/spf_calibration/calib1.json"
   ]
  },
  {
   "cell_type": "code",
   "execution_count": 1,
   "metadata": {},
   "outputs": [],
   "source": [
    "import json\n",
    "import numpy as np\n",
    "import pandas as pd\n",
    "import seaborn as sns\n",
    "from API import API\n",
    "from secret import API_KEY,MAC_WEAR\n",
    "import plotly.graph_objects as go\n",
    "\n",
    "from func.DataLoader import gdfLoader,ReadMarkerMap,RSSIDataLoader"
   ]
  },
  {
   "cell_type": "code",
   "execution_count": 2,
   "metadata": {},
   "outputs": [],
   "source": [
    "expectation=json.loads(open('data/spf_calibration/calib1.json').read())"
   ]
  },
  {
   "cell_type": "code",
   "execution_count": 3,
   "metadata": {},
   "outputs": [
    {
     "data": {
      "text/html": [
       "<div>\n",
       "<style scoped>\n",
       "    .dataframe tbody tr th:only-of-type {\n",
       "        vertical-align: middle;\n",
       "    }\n",
       "\n",
       "    .dataframe tbody tr th {\n",
       "        vertical-align: top;\n",
       "    }\n",
       "\n",
       "    .dataframe thead th {\n",
       "        text-align: right;\n",
       "    }\n",
       "</style>\n",
       "<table border=\"1\" class=\"dataframe\">\n",
       "  <thead>\n",
       "    <tr style=\"text-align: right;\">\n",
       "      <th></th>\n",
       "      <th>timestamp</th>\n",
       "      <th>macModule</th>\n",
       "      <th>rssi</th>\n",
       "    </tr>\n",
       "  </thead>\n",
       "  <tbody>\n",
       "    <tr>\n",
       "      <th>0</th>\n",
       "      <td>2023-06-23 10:50:09.238</td>\n",
       "      <td>A8032A311FAA</td>\n",
       "      <td>-67</td>\n",
       "    </tr>\n",
       "    <tr>\n",
       "      <th>1</th>\n",
       "      <td>2023-06-23 10:50:08.643</td>\n",
       "      <td>A8032A311F96</td>\n",
       "      <td>-64</td>\n",
       "    </tr>\n",
       "    <tr>\n",
       "      <th>2</th>\n",
       "      <td>2023-06-23 10:50:08.436</td>\n",
       "      <td>A8032A31204A</td>\n",
       "      <td>-74</td>\n",
       "    </tr>\n",
       "    <tr>\n",
       "      <th>3</th>\n",
       "      <td>2023-06-23 10:50:06.047</td>\n",
       "      <td>A8032A311F96</td>\n",
       "      <td>-64</td>\n",
       "    </tr>\n",
       "    <tr>\n",
       "      <th>4</th>\n",
       "      <td>2023-06-23 10:50:05.870</td>\n",
       "      <td>A8032A31204A</td>\n",
       "      <td>-74</td>\n",
       "    </tr>\n",
       "    <tr>\n",
       "      <th>...</th>\n",
       "      <td>...</td>\n",
       "      <td>...</td>\n",
       "      <td>...</td>\n",
       "    </tr>\n",
       "    <tr>\n",
       "      <th>11697</th>\n",
       "      <td>2023-06-23 08:42:03.619</td>\n",
       "      <td>A8032A311FAA</td>\n",
       "      <td>-66</td>\n",
       "    </tr>\n",
       "    <tr>\n",
       "      <th>11698</th>\n",
       "      <td>2023-06-23 08:42:02.726</td>\n",
       "      <td>A8032A311F96</td>\n",
       "      <td>-65</td>\n",
       "    </tr>\n",
       "    <tr>\n",
       "      <th>11699</th>\n",
       "      <td>2023-06-23 08:42:02.400</td>\n",
       "      <td>A8032A31204A</td>\n",
       "      <td>-73</td>\n",
       "    </tr>\n",
       "    <tr>\n",
       "      <th>11700</th>\n",
       "      <td>2023-06-23 08:42:01.377</td>\n",
       "      <td>A8032A311F6A</td>\n",
       "      <td>-55</td>\n",
       "    </tr>\n",
       "    <tr>\n",
       "      <th>11701</th>\n",
       "      <td>2023-06-23 08:42:00.404</td>\n",
       "      <td>A8032A311DAA</td>\n",
       "      <td>-71</td>\n",
       "    </tr>\n",
       "  </tbody>\n",
       "</table>\n",
       "<p>11702 rows × 3 columns</p>\n",
       "</div>"
      ],
      "text/plain": [
       "                    timestamp     macModule  rssi\n",
       "0     2023-06-23 10:50:09.238  A8032A311FAA   -67\n",
       "1     2023-06-23 10:50:08.643  A8032A311F96   -64\n",
       "2     2023-06-23 10:50:08.436  A8032A31204A   -74\n",
       "3     2023-06-23 10:50:06.047  A8032A311F96   -64\n",
       "4     2023-06-23 10:50:05.870  A8032A31204A   -74\n",
       "...                       ...           ...   ...\n",
       "11697 2023-06-23 08:42:03.619  A8032A311FAA   -66\n",
       "11698 2023-06-23 08:42:02.726  A8032A311F96   -65\n",
       "11699 2023-06-23 08:42:02.400  A8032A31204A   -73\n",
       "11700 2023-06-23 08:42:01.377  A8032A311F6A   -55\n",
       "11701 2023-06-23 08:42:00.404  A8032A311DAA   -71\n",
       "\n",
       "[11702 rows x 3 columns]"
      ]
     },
     "execution_count": 3,
     "metadata": {},
     "output_type": "execute_result"
    }
   ],
   "source": [
    "# here we get the actual data we want to predict position in zero shot\n",
    "start,end=\"2023-06-23 10:42:00.000000\",\"2023-06-23 12:50:10.000000\"# should be 4A439\n",
    "\n",
    "Gatien_API=API(API_KEY)\n",
    "hour_correction=2\n",
    "start=pd.to_datetime(start)-pd.Timedelta(hour_correction, unit=\"h\")\n",
    "end=pd.to_datetime(end)-pd.Timedelta(hour_correction, unit=\"h\")\n",
    "data=Gatien_API.getRawDataForCartoWear(MAC_WEAR,start,end)\n",
    "data=pd.DataFrame(data)\n",
    "data[\"timestamp\"]=pd.to_datetime(data['timestamp'])\n",
    "data\n"
   ]
  },
  {
   "attachments": {},
   "cell_type": "markdown",
   "metadata": {},
   "source": [
    "data treatment"
   ]
  },
  {
   "cell_type": "code",
   "execution_count": 4,
   "metadata": {},
   "outputs": [
    {
     "data": {
      "text/html": [
       "<div>\n",
       "<style scoped>\n",
       "    .dataframe tbody tr th:only-of-type {\n",
       "        vertical-align: middle;\n",
       "    }\n",
       "\n",
       "    .dataframe tbody tr th {\n",
       "        vertical-align: top;\n",
       "    }\n",
       "\n",
       "    .dataframe thead th {\n",
       "        text-align: right;\n",
       "    }\n",
       "</style>\n",
       "<table border=\"1\" class=\"dataframe\">\n",
       "  <thead>\n",
       "    <tr style=\"text-align: right;\">\n",
       "      <th></th>\n",
       "      <th>macModule</th>\n",
       "      <th>rssi</th>\n",
       "    </tr>\n",
       "  </thead>\n",
       "  <tbody>\n",
       "    <tr>\n",
       "      <th>0</th>\n",
       "      <td>A8032A311DAA</td>\n",
       "      <td>-71.752879</td>\n",
       "    </tr>\n",
       "    <tr>\n",
       "      <th>1</th>\n",
       "      <td>A8032A311F6A</td>\n",
       "      <td>-54.549628</td>\n",
       "    </tr>\n",
       "    <tr>\n",
       "      <th>2</th>\n",
       "      <td>A8032A311F96</td>\n",
       "      <td>-64.051635</td>\n",
       "    </tr>\n",
       "    <tr>\n",
       "      <th>3</th>\n",
       "      <td>A8032A311FAA</td>\n",
       "      <td>-67.128875</td>\n",
       "    </tr>\n",
       "    <tr>\n",
       "      <th>4</th>\n",
       "      <td>A8032A31204A</td>\n",
       "      <td>-72.512910</td>\n",
       "    </tr>\n",
       "    <tr>\n",
       "      <th>5</th>\n",
       "      <td>A8032A31204E</td>\n",
       "      <td>-79.503448</td>\n",
       "    </tr>\n",
       "  </tbody>\n",
       "</table>\n",
       "</div>"
      ],
      "text/plain": [
       "      macModule       rssi\n",
       "0  A8032A311DAA -71.752879\n",
       "1  A8032A311F6A -54.549628\n",
       "2  A8032A311F96 -64.051635\n",
       "3  A8032A311FAA -67.128875\n",
       "4  A8032A31204A -72.512910\n",
       "5  A8032A31204E -79.503448"
      ]
     },
     "execution_count": 4,
     "metadata": {},
     "output_type": "execute_result"
    }
   ],
   "source": [
    "data_treated=data.groupby(\"macModule\").mean().reset_index()\n",
    "data_treated=data_treated[[\"macModule\",\"rssi\"]]\n",
    "data_treated"
   ]
  },
  {
   "cell_type": "code",
   "execution_count": 5,
   "metadata": {},
   "outputs": [
    {
     "data": {
      "text/plain": [
       "{'21855': 1, '21279': 2, '21821': 1, '21820': 3}"
      ]
     },
     "execution_count": 5,
     "metadata": {},
     "output_type": "execute_result"
    }
   ],
   "source": [
    "\n",
    "room_dict={}\n",
    "for index,row in data_treated.iterrows():\n",
    "    room_value=expectation[row[\"macModule\"]]\n",
    "    for room in room_value:\n",
    "        if room_value[room]:\n",
    "            min,max=room_value[room]\n",
    "            if min<=row[\"rssi\"]<=max:\n",
    "                room_dict[room]=room_dict.get(room,0)+1\n",
    "room_dict"
   ]
  }
 ],
 "metadata": {
  "kernelspec": {
   "display_name": ".venv",
   "language": "python",
   "name": "python3"
  },
  "language_info": {
   "codemirror_mode": {
    "name": "ipython",
    "version": 3
   },
   "file_extension": ".py",
   "mimetype": "text/x-python",
   "name": "python",
   "nbconvert_exporter": "python",
   "pygments_lexer": "ipython3",
   "version": "3.10.6"
  },
  "orig_nbformat": 4
 },
 "nbformat": 4,
 "nbformat_minor": 2
}
