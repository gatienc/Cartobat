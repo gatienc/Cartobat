{
 "cells": [
  {
   "cell_type": "code",
   "execution_count": 1,
   "metadata": {},
   "outputs": [
    {
     "name": "stderr",
     "output_type": "stream",
     "text": [
      "INFO - Logger configured\n"
     ]
    }
   ],
   "source": [
    "from src.DataLoader import gdfLoader,ReceiverLoader,RSSIDataLoader\n",
    "from func.utils.getMarkerDictList import getMarkerDictList\n",
    "from src.DataLoader import Room,Receiver"
   ]
  },
  {
   "cell_type": "code",
   "execution_count": 2,
   "metadata": {},
   "outputs": [],
   "source": [
    "#Map Data\n",
    "MapDataPath=\"data/cartePalaiseau.csv\"\n",
    "map_gdf=gdfLoader(MapDataPath)\n",
    "#Receiver Data\n",
    "ReceiverDataPath=\"data/carteModulePalaiseau.csv\"\n",
    "receiver_gdf=ReceiverLoader(ReceiverDataPath)"
   ]
  },
  {
   "cell_type": "code",
   "execution_count": 3,
   "metadata": {},
   "outputs": [],
   "source": [
    "from src.DataLoader import room_list_generator,room_r_tree_generator\n",
    "room_list=room_list_generator(map_gdf)\n",
    "room_r_tree=room_r_tree_generator(room_list)"
   ]
  },
  {
   "cell_type": "code",
   "execution_count": 4,
   "metadata": {},
   "outputs": [
    {
     "data": {
      "text/plain": [
       "{'A8032A31204E': Receiver(room=Room(uid=21884, name='4A443', polygon=<POLYGON ((2.201 48.713, 2.201 48.713, 2.201 48.713, 2.201 48.713, 2.201 48....>), point=<POINT (2.201 48.713)>),\n",
       " 'C45BBE39F42A': Receiver(room=Room(uid=21283, name='', polygon=<POLYGON ((2.201 48.713, 2.201 48.713, 2.201 48.713, 2.201 48.713, 2.201 48....>), point=<POINT (2.201 48.713)>),\n",
       " 'C45BBE39F9AE': Receiver(room=Room(uid=21849, name='4A467', polygon=<POLYGON ((2.201 48.713, 2.201 48.713, 2.201 48.713, 2.201 48.713, 2.201 48....>), point=<POINT (2.201 48.713)>),\n",
       " 'A8032A311FAA': Receiver(room=Room(uid=21867, name='4A441', polygon=<POLYGON ((2.201 48.713, 2.201 48.713, 2.201 48.713, 2.201 48.713, 2.201 48....>), point=<POINT (2.201 48.713)>),\n",
       " 'C45BBE39F56A': Receiver(room=Room(uid=21283, name='', polygon=<POLYGON ((2.201 48.713, 2.201 48.713, 2.201 48.713, 2.201 48.713, 2.201 48....>), point=<POINT (2.201 48.713)>),\n",
       " 'C45BBE37B346': Receiver(room=Room(uid=21885, name='4A449', polygon=<POLYGON ((2.201 48.713, 2.201 48.713, 2.201 48.713, 2.201 48.713, 2.201 48....>), point=<POINT (2.201 48.713)>),\n",
       " 'C45BBE386952': Receiver(room=Room(uid=21834, name='4A454', polygon=<POLYGON ((2.201 48.713, 2.201 48.713, 2.201 48.713, 2.201 48.713, 2.201 48....>), point=<POINT (2.201 48.713)>),\n",
       " 'C45BBE386362': Receiver(room=Room(uid=21858, name='4A453', polygon=<POLYGON ((2.201 48.713, 2.201 48.713, 2.201 48.713, 2.201 48.713, 2.201 48....>), point=<POINT (2.201 48.713)>),\n",
       " 'C45BBE384CD2': Receiver(room=Room(uid=21833, name='4A450', polygon=<POLYGON ((2.201 48.713, 2.201 48.713, 2.201 48.713, 2.201 48.713, 2.201 48....>), point=<POINT (2.201 48.713)>),\n",
       " 'C45BBE39870E': Receiver(room=Room(uid=21860, name='4A458', polygon=<POLYGON ((2.201 48.713, 2.201 48.713, 2.201 48.713, 2.201 48.713, 2.201 48....>), point=<POINT (2.201 48.713)>),\n",
       " 'A8032A312052': Receiver(room=Room(uid=21832, name='4A446', polygon=<POLYGON ((2.201 48.713, 2.201 48.713, 2.201 48.713, 2.201 48.713, 2.201 48....>), point=<POINT (2.201 48.713)>),\n",
       " 'A8032A31204A': Receiver(room=Room(uid=21819, name='4A442', polygon=<POLYGON ((2.201 48.713, 2.201 48.713, 2.201 48.713, 2.201 48.713, 2.201 48....>), point=<POINT (2.201 48.713)>),\n",
       " 'A8032A311F6A': Receiver(room=Room(uid=21855, name='4A435', polygon=<POLYGON ((2.201 48.713, 2.201 48.713, 2.201 48.713, 2.201 48.713, 2.201 48....>), point=<POINT (2.201 48.713)>),\n",
       " 'A8032A311F56': Receiver(room=Room(uid=21822, name='4A432', polygon=<POLYGON ((2.201 48.713, 2.201 48.713, 2.201 48.713, 2.201 48.713, 2.201 48....>), point=<POINT (2.201 48.713)>),\n",
       " 'C45BBE38FEAA': Receiver(room=Room(uid=21865, name='4A457', polygon=<POLYGON ((2.201 48.713, 2.201 48.713, 2.201 48.713, 2.201 48.713, 2.201 48....>), point=<POINT (2.201 48.713)>),\n",
       " 'A8032A30FBFE': Receiver(room=Room(uid=21268, name='', polygon=<POLYGON ((2.2 48.713, 2.2 48.713, 2.201 48.713, 2.201 48.713, 2.2 48.713))>), point=<POINT (2.2 48.713)>),\n",
       " 'A8032A311DAA': Receiver(room=Room(uid=21267, name='', polygon=<POLYGON ((2.201 48.713, 2.201 48.713, 2.201 48.713, 2.201 48.713, 2.201 48....>), point=<POINT (2.201 48.713)>),\n",
       " 'A8032A30FB9E': Receiver(room=Room(uid=21268, name='', polygon=<POLYGON ((2.2 48.713, 2.2 48.713, 2.201 48.713, 2.201 48.713, 2.2 48.713))>), point=<POINT (2.2 48.713)>),\n",
       " 'C45BBE39F4D6': Receiver(room=Room(uid=21866, name='4A465', polygon=<POLYGON ((2.201 48.713, 2.201 48.713, 2.201 48.713, 2.201 48.713, 2.201 48....>), point=<POINT (2.201 48.713)>),\n",
       " 'A8032A311F96': Receiver(room=Room(uid=21820, name='4A438', polygon=<POLYGON ((2.201 48.713, 2.201 48.713, 2.201 48.713, 2.201 48.713, 2.201 48....>), point=<POINT (2.201 48.713)>),\n",
       " 'A8032A311F66': Receiver(room=Room(uid=21838, name='', polygon=<POLYGON ((2.201 48.713, 2.202 48.713, 2.202 48.713, 2.202 48.713, 2.202 48....>), point=<POINT (2.202 48.713)>),\n",
       " 'A8032A311FBA': Receiver(room=Room(uid=21836, name='4A485', polygon=<POLYGON ((2.202 48.713, 2.202 48.713, 2.202 48.713, 2.202 48.713, 2.202 48....>), point=<POINT (2.202 48.713)>),\n",
       " 'A8032A311F52': Receiver(room=Room(uid=21839, name='4A481', polygon=<POLYGON ((2.201 48.713, 2.201 48.713, 2.201 48.713, 2.201 48.713, 2.201 48....>), point=<POINT (2.201 48.713)>),\n",
       " 'A8032A311DBA': Receiver(room=Room(uid=21841, name='4A467', polygon=<POLYGON ((2.201 48.713, 2.201 48.713, 2.201 48.713, 2.201 48.713, 2.201 48....>), point=<POINT (2.201 48.713)>),\n",
       " 'A8032A30FBEE': Receiver(room=Room(uid=21828, name='4A472', polygon=<POLYGON ((2.201 48.713, 2.201 48.713, 2.201 48.713, 2.201 48.713, 2.201 48....>), point=<POINT (2.201 48.713)>),\n",
       " 'A8032A311DD2': Receiver(room=Room(uid=21846, name='4A478', polygon=<POLYGON ((2.201 48.713, 2.201 48.713, 2.201 48.713, 2.201 48.713, 2.201 48....>), point=<POINT (2.201 48.713)>),\n",
       " 'A8032A30FBDE': Receiver(room=Room(uid=21850, name='', polygon=<POLYGON ((2.201 48.713, 2.201 48.713, 2.201 48.713, 2.201 48.713, 2.201 48....>), point=<POINT (2.201 48.713)>),\n",
       " 'A8032A30FBE2': Receiver(room=Room(uid=21848, name='4A473', polygon=<POLYGON ((2.201 48.713, 2.201 48.713, 2.201 48.713, 2.201 48.713, 2.201 48....>), point=<POINT (2.201 48.713)>),\n",
       " 'A8032A30FBA2': Receiver(room=Room(uid=21849, name='4A467', polygon=<POLYGON ((2.201 48.713, 2.201 48.713, 2.201 48.713, 2.201 48.713, 2.201 48....>), point=<POINT (2.201 48.713)>),\n",
       " 'A8032A311F8A': Receiver(room=Room(uid=21838, name='', polygon=<POLYGON ((2.201 48.713, 2.202 48.713, 2.202 48.713, 2.202 48.713, 2.202 48....>), point=<POINT (2.202 48.713)>),\n",
       " 'C45BBE3820DA': Receiver(room=Room(uid=21838, name='', polygon=<POLYGON ((2.201 48.713, 2.202 48.713, 2.202 48.713, 2.202 48.713, 2.202 48....>), point=<POINT (2.201 48.713)>)}"
      ]
     },
     "execution_count": 4,
     "metadata": {},
     "output_type": "execute_result"
    }
   ],
   "source": [
    "from src.DataLoader import build_receiver_set\n",
    "receiver_set= build_receiver_set(receiver_gdf,room_list,room_r_tree)\n",
    "receiver_set"
   ]
  },
  {
   "cell_type": "code",
   "execution_count": 5,
   "metadata": {},
   "outputs": [],
   "source": [
    "Threshold1=-45\n",
    "Threshold2=-70"
   ]
  },
  {
   "cell_type": "code",
   "execution_count": 6,
   "metadata": {},
   "outputs": [],
   "source": [
    "from src.DataLoader import Receiver\n",
    "from shapely.geometry import Point,Polygon\n",
    "\n",
    "#need in the class: receiver_set\n",
    "def zone_selection(receiver:Receiver,rssi:int)->Polygon:\n",
    "    \"\"\"\n",
    "    Return the predicted zone for the selected receiver receiving the rssi \n",
    "    \n",
    "    Parameters\n",
    "    ---\n",
    "    Input:\n",
    "    receiver: Receiver\n",
    "    rssi: int\n",
    "    \n",
    "    Output:\n",
    "    Polygon\n",
    "    \"\"\"\n",
    "    if rssi>Threshold1:\n",
    "        return receiver.room.polygon\n",
    "    "
   ]
  },
  {
   "cell_type": "code",
   "execution_count": 7,
   "metadata": {},
   "outputs": [],
   "source": [
    "def test_case1(receiver_set):\n",
    "    receiver=receiver_set['A8032A31204E']\n",
    "    rssi=-40\n",
    "    zone=zone_selection(receiver,rssi)\n",
    "    assert zone==receiver.room.polygon,f'Error: {zone_selection(receiver,rssi)} should be {receiver.room.polygon}'\n",
    "test_case1(receiver_set)"
   ]
  },
  {
   "cell_type": "code",
   "execution_count": 8,
   "metadata": {},
   "outputs": [
    {
     "data": {
      "text/plain": [
       "Room(uid=21884, name='4A443', polygon=<POLYGON ((2.201 48.713, 2.201 48.713, 2.201 48.713, 2.201 48.713, 2.201 48....>)"
      ]
     },
     "execution_count": 8,
     "metadata": {},
     "output_type": "execute_result"
    }
   ],
   "source": [
    "receiver=receiver_set['A8032A31204E']\n",
    "receiver.room\n"
   ]
  }
 ],
 "metadata": {
  "kernelspec": {
   "display_name": ".venv",
   "language": "python",
   "name": "python3"
  },
  "language_info": {
   "codemirror_mode": {
    "name": "ipython",
    "version": 3
   },
   "file_extension": ".py",
   "mimetype": "text/x-python",
   "name": "python",
   "nbconvert_exporter": "python",
   "pygments_lexer": "ipython3",
   "version": "3.10.6"
  },
  "orig_nbformat": 4
 },
 "nbformat": 4,
 "nbformat_minor": 2
}
