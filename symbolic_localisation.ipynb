{
 "cells": [
  {
   "cell_type": "code",
   "execution_count": 1,
   "metadata": {},
   "outputs": [
    {
     "name": "stderr",
     "output_type": "stream",
     "text": [
      "INFO - Logger configured\n"
     ]
    }
   ],
   "source": [
    "from src.DataLoader import gdfLoader,ReceiverLoader,RSSIDataLoader\n",
    "from func.utils.getMarkerDictList import getMarkerDictList\n",
    "from src.DataLoader import Room,Receiver"
   ]
  },
  {
   "cell_type": "code",
   "execution_count": 2,
   "metadata": {},
   "outputs": [
    {
     "ename": "NameError",
     "evalue": "name 'MarkerLoader' is not defined",
     "output_type": "error",
     "traceback": [
      "\u001b[0;31m---------------------------------------------------------------------------\u001b[0m",
      "\u001b[0;31mNameError\u001b[0m                                 Traceback (most recent call last)",
      "Cell \u001b[0;32mIn[2], line 6\u001b[0m\n\u001b[1;32m      4\u001b[0m \u001b[39m#Receiver Data\u001b[39;00m\n\u001b[1;32m      5\u001b[0m ReceiverDataPath\u001b[39m=\u001b[39m\u001b[39m\"\u001b[39m\u001b[39mdata/carteModulePalaiseau.csv\u001b[39m\u001b[39m\"\u001b[39m\n\u001b[0;32m----> 6\u001b[0m receiver_gdf\u001b[39m=\u001b[39mMarkerLoader(ReceiverDataPath)\n",
      "\u001b[0;31mNameError\u001b[0m: name 'MarkerLoader' is not defined"
     ]
    }
   ],
   "source": [
    "#Map Data\n",
    "MapDataPath=\"data/cartePalaiseau.csv\"\n",
    "map_gdf=gdfLoader(MapDataPath)\n",
    "#Receiver Data\n",
    "ReceiverDataPath=\"data/carteModulePalaiseau.csv\"\n",
    "receiver_gdf=ReceiverLoader(ReceiverDataPath)"
   ]
  },
  {
   "cell_type": "code",
   "execution_count": null,
   "metadata": {},
   "outputs": [],
   "source": [
    "from src.DataLoader import room_list_generator,room_r_tree_generator\n",
    "room_list=room_list_generator(map_gdf)\n",
    "room_r_tree=room_r_tree_generator(room_list)"
   ]
  },
  {
   "cell_type": "code",
   "execution_count": null,
   "metadata": {},
   "outputs": [],
   "source": [
    "from src.DataLoader import build_receiver_set\n",
    "receiver_set= build_receiver_set(receiver_gdf,room_list,room_r_tree)\n"
   ]
  },
  {
   "cell_type": "code",
   "execution_count": null,
   "metadata": {},
   "outputs": [],
   "source": []
  }
 ],
 "metadata": {
  "kernelspec": {
   "display_name": ".venv",
   "language": "python",
   "name": "python3"
  },
  "language_info": {
   "codemirror_mode": {
    "name": "ipython",
    "version": 3
   },
   "file_extension": ".py",
   "mimetype": "text/x-python",
   "name": "python",
   "nbconvert_exporter": "python",
   "pygments_lexer": "ipython3",
   "version": "3.10.6"
  },
  "orig_nbformat": 4
 },
 "nbformat": 4,
 "nbformat_minor": 2
}
