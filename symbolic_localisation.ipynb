{
 "cells": [
  {
   "cell_type": "code",
   "execution_count": null,
   "metadata": {},
   "outputs": [],
   "source": [
    "from src.DataLoader import gdfLoader,MarkerLoader,RSSIDataLoader\n",
    "from func.utils.getMarkerDictList import getMarkerDictList\n"
   ]
  },
  {
   "cell_type": "code",
   "execution_count": null,
   "metadata": {},
   "outputs": [],
   "source": [
    "MapDataPath=\"data/cartePalaiseau.csv\"\n",
    "ModuleMapPath=\"data/carteModulePalaiseau.csv\"\n",
    "#Map Data\n",
    "map_gdf=gdfLoader(MapDataPath)\n",
    "#marker data\n",
    "marker_gdf=MarkerLoader(ModuleMapPath)"
   ]
  },
  {
   "cell_type": "code",
   "execution_count": null,
   "metadata": {},
   "outputs": [],
   "source": [
    "map_gdf"
   ]
  },
  {
   "cell_type": "code",
   "execution_count": 1,
   "metadata": {},
   "outputs": [
    {
     "name": "stdout",
     "output_type": "stream",
     "text": [
      "The point POINT (0.5 0.5) is inside polygon 0\n",
      "The point POINT (2.5 2.5) is inside polygon 1\n"
     ]
    }
   ],
   "source": [
    "from shapely.geometry import Point, Polygon\n",
    "from rtree import index\n",
    "\n",
    "# Define the polygons\n",
    "polygons = [Polygon([(0, 0), (0, 1), (1, 1), (1, 0)]), Polygon([(2, 2), (2, 3), (3, 3), (3, 2)])]\n",
    "\n",
    "# Create a spatial index for the polygons\n",
    "idx = index.Index()\n",
    "for i, poly in enumerate(polygons):\n",
    "    idx.insert(i, poly.bounds)\n",
    "\n",
    "# Define the points\n",
    "points = [Point(0.5, 0.5), Point(2.5, 2.5)]\n",
    "\n",
    "# Check which polygons each point is inside\n",
    "for point in points:\n",
    "    for i in idx.intersection((point.x, point.y, point.x, point.y)):\n",
    "        if polygons[i].contains(point):\n",
    "            print(f\"The point {point} is inside polygon {i}\")"
   ]
  },
  {
   "cell_type": "code",
   "execution_count": null,
   "metadata": {},
   "outputs": [],
   "source": []
  }
 ],
 "metadata": {
  "kernelspec": {
   "display_name": ".venv",
   "language": "python",
   "name": "python3"
  },
  "language_info": {
   "codemirror_mode": {
    "name": "ipython",
    "version": 3
   },
   "file_extension": ".py",
   "mimetype": "text/x-python",
   "name": "python",
   "nbconvert_exporter": "python",
   "pygments_lexer": "ipython3",
   "version": "3.10.6"
  },
  "orig_nbformat": 4
 },
 "nbformat": 4,
 "nbformat_minor": 2
}
