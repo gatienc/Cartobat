{
 "cells": [
  {
   "cell_type": "code",
   "execution_count": 1,
   "metadata": {},
   "outputs": [
    {
     "name": "stderr",
     "output_type": "stream",
     "text": [
      "INFO - Logger configured\n"
     ]
    }
   ],
   "source": [
    "from src.DataLoader import gdfLoader,MarkerLoader,RSSIDataLoader\n",
    "from func.utils.getMarkerDictList import getMarkerDictList\n",
    "from src.DataLoader import Room,Receiver"
   ]
  },
  {
   "cell_type": "code",
   "execution_count": 2,
   "metadata": {},
   "outputs": [
    {
     "data": {
      "text/html": [
       "<div>\n",
       "<style scoped>\n",
       "    .dataframe tbody tr th:only-of-type {\n",
       "        vertical-align: middle;\n",
       "    }\n",
       "\n",
       "    .dataframe tbody tr th {\n",
       "        vertical-align: top;\n",
       "    }\n",
       "\n",
       "    .dataframe thead th {\n",
       "        text-align: right;\n",
       "    }\n",
       "</style>\n",
       "<table border=\"1\" class=\"dataframe\">\n",
       "  <thead>\n",
       "    <tr style=\"text-align: right;\">\n",
       "      <th></th>\n",
       "      <th>ID_element</th>\n",
       "      <th>nom</th>\n",
       "      <th>geometry</th>\n",
       "    </tr>\n",
       "  </thead>\n",
       "  <tbody>\n",
       "    <tr>\n",
       "      <th>0</th>\n",
       "      <td>21205</td>\n",
       "      <td>4A101</td>\n",
       "      <td>POLYGON ((2.19977 48.71281, 2.19979 48.71287, ...</td>\n",
       "    </tr>\n",
       "    <tr>\n",
       "      <th>1</th>\n",
       "      <td>21264</td>\n",
       "      <td>4A413</td>\n",
       "      <td>POLYGON ((2.20045 48.71307, 2.20046 48.71311, ...</td>\n",
       "    </tr>\n",
       "    <tr>\n",
       "      <th>2</th>\n",
       "      <td>21265</td>\n",
       "      <td>4A409</td>\n",
       "      <td>POLYGON ((2.20043 48.71301, 2.20044 48.71304, ...</td>\n",
       "    </tr>\n",
       "    <tr>\n",
       "      <th>3</th>\n",
       "      <td>21266</td>\n",
       "      <td></td>\n",
       "      <td>POLYGON ((2.20050 48.71315, 2.20055 48.71315, ...</td>\n",
       "    </tr>\n",
       "    <tr>\n",
       "      <th>4</th>\n",
       "      <td>21267</td>\n",
       "      <td></td>\n",
       "      <td>POLYGON ((2.20055 48.71317, 2.20059 48.71316, ...</td>\n",
       "    </tr>\n",
       "    <tr>\n",
       "      <th>...</th>\n",
       "      <td>...</td>\n",
       "      <td>...</td>\n",
       "      <td>...</td>\n",
       "    </tr>\n",
       "    <tr>\n",
       "      <th>196</th>\n",
       "      <td>21994</td>\n",
       "      <td>4A249</td>\n",
       "      <td>POLYGON ((2.20069 48.71252, 2.20073 48.71251, ...</td>\n",
       "    </tr>\n",
       "    <tr>\n",
       "      <th>197</th>\n",
       "      <td>21995</td>\n",
       "      <td></td>\n",
       "      <td>POLYGON ((2.20140 48.71297, 2.20138 48.71298, ...</td>\n",
       "    </tr>\n",
       "    <tr>\n",
       "      <th>198</th>\n",
       "      <td>21996</td>\n",
       "      <td></td>\n",
       "      <td>POLYGON ((2.20109 48.71319, 2.20110 48.71324, ...</td>\n",
       "    </tr>\n",
       "    <tr>\n",
       "      <th>199</th>\n",
       "      <td>21997</td>\n",
       "      <td></td>\n",
       "      <td>POLYGON ((2.20116 48.71308, 2.20129 48.71307, ...</td>\n",
       "    </tr>\n",
       "    <tr>\n",
       "      <th>200</th>\n",
       "      <td>21998</td>\n",
       "      <td></td>\n",
       "      <td>POLYGON ((2.19980 48.71294, 2.19981 48.71296, ...</td>\n",
       "    </tr>\n",
       "  </tbody>\n",
       "</table>\n",
       "<p>201 rows × 3 columns</p>\n",
       "</div>"
      ],
      "text/plain": [
       "    ID_element    nom                                           geometry\n",
       "0        21205  4A101  POLYGON ((2.19977 48.71281, 2.19979 48.71287, ...\n",
       "1        21264  4A413  POLYGON ((2.20045 48.71307, 2.20046 48.71311, ...\n",
       "2        21265  4A409  POLYGON ((2.20043 48.71301, 2.20044 48.71304, ...\n",
       "3        21266         POLYGON ((2.20050 48.71315, 2.20055 48.71315, ...\n",
       "4        21267         POLYGON ((2.20055 48.71317, 2.20059 48.71316, ...\n",
       "..         ...    ...                                                ...\n",
       "196      21994  4A249  POLYGON ((2.20069 48.71252, 2.20073 48.71251, ...\n",
       "197      21995         POLYGON ((2.20140 48.71297, 2.20138 48.71298, ...\n",
       "198      21996         POLYGON ((2.20109 48.71319, 2.20110 48.71324, ...\n",
       "199      21997         POLYGON ((2.20116 48.71308, 2.20129 48.71307, ...\n",
       "200      21998         POLYGON ((2.19980 48.71294, 2.19981 48.71296, ...\n",
       "\n",
       "[201 rows x 3 columns]"
      ]
     },
     "execution_count": 2,
     "metadata": {},
     "output_type": "execute_result"
    }
   ],
   "source": [
    "#Map Data\n",
    "MapDataPath=\"data/cartePalaiseau.csv\"\n",
    "map_gdf=gdfLoader(MapDataPath)\n",
    "#Receiver Data\n",
    "ReceiverDataPath=\"data/carteModulePalaiseau.csv\"\n",
    "receiver_gdf=MarkerLoader(ReceiverDataPath)\n",
    "\n",
    "map_gdf"
   ]
  },
  {
   "cell_type": "code",
   "execution_count": 3,
   "metadata": {},
   "outputs": [],
   "source": [
    "from src.DataLoader import room_list_generator,room_r_tree_generator\n",
    "room_list=room_list_generator(map_gdf)\n",
    "room_r_tree=room_r_tree_generator(room_list)"
   ]
  },
  {
   "cell_type": "code",
   "execution_count": 5,
   "metadata": {},
   "outputs": [
    {
     "data": {
      "text/plain": [
       "{'A8032A31204E': Receiver(room=Room(uid=21279, name='', polygon=<POLYGON ((2.201 48.713, 2.201 48.713, 2.201 48.713, 2.201 48.713, 2.201 48....>), point=<POINT (2.201 48.713)>),\n",
       " 'C45BBE39F42A': Receiver(room=Room(uid=21861, name='', polygon=<POLYGON ((2.201 48.713, 2.201 48.713, 2.201 48.713, 2.201 48.713, 2.201 48....>), point=<POINT (2.201 48.713)>),\n",
       " 'C45BBE39F9AE': Receiver(room=Room(uid=21849, name='4A467', polygon=<POLYGON ((2.201 48.713, 2.201 48.713, 2.201 48.713, 2.201 48.713, 2.201 48....>), point=<POINT (2.201 48.713)>),\n",
       " 'A8032A311FAA': Receiver(room=Room(uid=21279, name='', polygon=<POLYGON ((2.201 48.713, 2.201 48.713, 2.201 48.713, 2.201 48.713, 2.201 48....>), point=<POINT (2.201 48.713)>),\n",
       " 'C45BBE39F56A': Receiver(room=Room(uid=21825, name='4A464', polygon=<POLYGON ((2.201 48.713, 2.201 48.713, 2.201 48.713, 2.201 48.713, 2.201 48....>), point=<POINT (2.201 48.713)>),\n",
       " 'C45BBE37B346': Receiver(room=Room(uid=21279, name='', polygon=<POLYGON ((2.201 48.713, 2.201 48.713, 2.201 48.713, 2.201 48.713, 2.201 48....>), point=<POINT (2.201 48.713)>),\n",
       " 'C45BBE386952': Receiver(room=Room(uid=21834, name='4A454', polygon=<POLYGON ((2.201 48.713, 2.201 48.713, 2.201 48.713, 2.201 48.713, 2.201 48....>), point=<POINT (2.201 48.713)>),\n",
       " 'C45BBE386362': Receiver(room=Room(uid=21858, name='4A453', polygon=<POLYGON ((2.201 48.713, 2.201 48.713, 2.201 48.713, 2.201 48.713, 2.201 48....>), point=<POINT (2.201 48.713)>),\n",
       " 'C45BBE384CD2': Receiver(room=Room(uid=21833, name='4A450', polygon=<POLYGON ((2.201 48.713, 2.201 48.713, 2.201 48.713, 2.201 48.713, 2.201 48....>), point=<POINT (2.201 48.713)>),\n",
       " 'C45BBE39870E': Receiver(room=Room(uid=21280, name='', polygon=<POLYGON ((2.201 48.713, 2.201 48.713, 2.201 48.713, 2.201 48.713, 2.201 48....>), point=<POINT (2.201 48.713)>),\n",
       " 'A8032A312052': Receiver(room=Room(uid=21279, name='', polygon=<POLYGON ((2.201 48.713, 2.201 48.713, 2.201 48.713, 2.201 48.713, 2.201 48....>), point=<POINT (2.201 48.713)>),\n",
       " 'A8032A31204A': Receiver(room=Room(uid=21279, name='', polygon=<POLYGON ((2.201 48.713, 2.201 48.713, 2.201 48.713, 2.201 48.713, 2.201 48....>), point=<POINT (2.201 48.713)>),\n",
       " 'A8032A311F6A': Receiver(room=Room(uid=21279, name='', polygon=<POLYGON ((2.201 48.713, 2.201 48.713, 2.201 48.713, 2.201 48.713, 2.201 48....>), point=<POINT (2.201 48.713)>),\n",
       " 'A8032A311F56': Receiver(room=Room(uid=21822, name='4A432', polygon=<POLYGON ((2.201 48.713, 2.201 48.713, 2.201 48.713, 2.201 48.713, 2.201 48....>), point=<POINT (2.201 48.713)>),\n",
       " 'C45BBE38FEAA': Receiver(room=Room(uid=21280, name='', polygon=<POLYGON ((2.201 48.713, 2.201 48.713, 2.201 48.713, 2.201 48.713, 2.201 48....>), point=<POINT (2.201 48.713)>),\n",
       " 'A8032A30FBFE': Receiver(room=Room(uid=21268, name='', polygon=<POLYGON ((2.2 48.713, 2.2 48.713, 2.201 48.713, 2.201 48.713, 2.2 48.713))>), point=<POINT (2.2 48.713)>),\n",
       " 'A8032A311DAA': Receiver(room=Room(uid=21267, name='', polygon=<POLYGON ((2.201 48.713, 2.201 48.713, 2.201 48.713, 2.201 48.713, 2.201 48....>), point=<POINT (2.201 48.713)>),\n",
       " 'A8032A30FB9E': Receiver(room=Room(uid=21268, name='', polygon=<POLYGON ((2.2 48.713, 2.2 48.713, 2.201 48.713, 2.201 48.713, 2.2 48.713))>), point=<POINT (2.2 48.713)>),\n",
       " 'C45BBE39F4D6': Receiver(room=Room(uid=21866, name='4A465', polygon=<POLYGON ((2.201 48.713, 2.201 48.713, 2.201 48.713, 2.201 48.713, 2.201 48....>), point=<POINT (2.201 48.713)>),\n",
       " 'A8032A311F96': Receiver(room=Room(uid=21279, name='', polygon=<POLYGON ((2.201 48.713, 2.201 48.713, 2.201 48.713, 2.201 48.713, 2.201 48....>), point=<POINT (2.201 48.713)>),\n",
       " 'A8032A311F66': Receiver(room=Room(uid=21838, name='', polygon=<POLYGON ((2.201 48.713, 2.202 48.713, 2.202 48.713, 2.202 48.713, 2.202 48....>), point=<POINT (2.202 48.713)>),\n",
       " 'A8032A311FBA': Receiver(room=Room(uid=21838, name='', polygon=<POLYGON ((2.201 48.713, 2.202 48.713, 2.202 48.713, 2.202 48.713, 2.202 48....>), point=<POINT (2.202 48.713)>),\n",
       " 'A8032A311F52': Receiver(room=Room(uid=21839, name='4A481', polygon=<POLYGON ((2.201 48.713, 2.201 48.713, 2.201 48.713, 2.201 48.713, 2.201 48....>), point=<POINT (2.201 48.713)>),\n",
       " 'A8032A311DBA': Receiver(room=Room(uid=21841, name='4A467', polygon=<POLYGON ((2.201 48.713, 2.201 48.713, 2.201 48.713, 2.201 48.713, 2.201 48....>), point=<POINT (2.201 48.713)>),\n",
       " 'A8032A30FBEE': Receiver(room=Room(uid=21838, name='', polygon=<POLYGON ((2.201 48.713, 2.202 48.713, 2.202 48.713, 2.202 48.713, 2.202 48....>), point=<POINT (2.201 48.713)>),\n",
       " 'A8032A311DD2': Receiver(room=Room(uid=21846, name='4A478', polygon=<POLYGON ((2.201 48.713, 2.201 48.713, 2.201 48.713, 2.201 48.713, 2.201 48....>), point=<POINT (2.201 48.713)>),\n",
       " 'A8032A30FBDE': Receiver(room=Room(uid=21850, name='', polygon=<POLYGON ((2.201 48.713, 2.201 48.713, 2.201 48.713, 2.201 48.713, 2.201 48....>), point=<POINT (2.201 48.713)>),\n",
       " 'A8032A30FBE2': Receiver(room=Room(uid=21848, name='4A473', polygon=<POLYGON ((2.201 48.713, 2.201 48.713, 2.201 48.713, 2.201 48.713, 2.201 48....>), point=<POINT (2.201 48.713)>),\n",
       " 'A8032A30FBA2': Receiver(room=Room(uid=21849, name='4A467', polygon=<POLYGON ((2.201 48.713, 2.201 48.713, 2.201 48.713, 2.201 48.713, 2.201 48....>), point=<POINT (2.201 48.713)>),\n",
       " 'A8032A311F8A': Receiver(room=Room(uid=21838, name='', polygon=<POLYGON ((2.201 48.713, 2.202 48.713, 2.202 48.713, 2.202 48.713, 2.202 48....>), point=<POINT (2.202 48.713)>),\n",
       " 'C45BBE3820DA': Receiver(room=Room(uid=21839, name='4A481', polygon=<POLYGON ((2.201 48.713, 2.201 48.713, 2.201 48.713, 2.201 48.713, 2.201 48....>), point=<POINT (2.201 48.713)>)}"
      ]
     },
     "execution_count": 5,
     "metadata": {},
     "output_type": "execute_result"
    }
   ],
   "source": [
    "from src.DataLoader import build_receiver_set\n",
    "receiver_set= build_receiver_set(receiver_gdf,room_list,room_r_tree)\n",
    "receiver_set"
   ]
  },
  {
   "cell_type": "code",
   "execution_count": null,
   "metadata": {},
   "outputs": [],
   "source": []
  }
 ],
 "metadata": {
  "kernelspec": {
   "display_name": ".venv",
   "language": "python",
   "name": "python3"
  },
  "language_info": {
   "codemirror_mode": {
    "name": "ipython",
    "version": 3
   },
   "file_extension": ".py",
   "mimetype": "text/x-python",
   "name": "python",
   "nbconvert_exporter": "python",
   "pygments_lexer": "ipython3",
   "version": "3.10.6"
  },
  "orig_nbformat": 4
 },
 "nbformat": 4,
 "nbformat_minor": 2
}
